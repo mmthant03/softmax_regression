{
 "nbformat": 4,
 "nbformat_minor": 2,
 "metadata": {
  "language_info": {
   "name": "python",
   "codemirror_mode": {
    "name": "ipython",
    "version": 3
   },
   "version": "3.7.3-final"
  },
  "orig_nbformat": 2,
  "file_extension": ".py",
  "mimetype": "text/x-python",
  "name": "python",
  "npconvert_exporter": "python",
  "pygments_lexer": "ipython3",
  "version": 3,
  "kernelspec": {
   "name": "python3",
   "display_name": "Python 3"
  }
 },
 "cells": [
  {
   "cell_type": "code",
   "execution_count": 55,
   "metadata": {},
   "outputs": [],
   "source": [
    "import numpy as np\n",
    "import matplotlib.pyplot as plt\n",
    "\n",
    "# Cross Entropy Loss\n",
    "def fCE(yhat, y):\n",
    "    return -np.mean(np.log(yhat[y==1]))\n",
    "# Percent Correct\n",
    "def fPC(yhat, y):\n",
    "    return np.mean(y.argmax(axis=1) == yhat.argmax(axis=1))\n",
    "\n",
    "def predictor(w, X):\n",
    "    z = np.exp(X.dot(w))\n",
    "    z_sum = np.sum(z, axis=1).reshape(-1, 1)\n",
    "    yhat = z/z_sum\n",
    "    return yhat\n",
    "\n",
    "def SGD(w, X, y):\n",
    "    yhat = predictor(w, X)\n",
    "    n = y.shape[0]\n",
    "    w = X.T.dot(yhat-y)/n\n",
    "    return w\n",
    "\n",
    "# Given training and testing data, learning rate epsilon, and a specified batch size,\n",
    "# conduct stochastic gradient descent (SGD) to optimize the weight matrix W (785x10).\n",
    "# Then return W.\n",
    "def softmaxRegression (trainingImages, trainingLabels, testingImages, testingLabels, epsilon = None, batchSize = None):\n",
    "    n = trainingLabels.shape[0]\n",
    "    W = 0.01 * np.random.randn(785,10)\n",
    "    for n_tilde in range(n // batchSize):\n",
    "        mini_x = trainingImages[n_tilde*batchSize: (n_tilde+1)*batchSize]\n",
    "        mini_y = trainingLabels[n_tilde*batchSize: (n_tilde+1)*batchSize] \n",
    "        W = W - epsilon*SGD(W, mini_x, mini_y)\n",
    "    print(fCE(predictor(W, testingImages), testingLabels))\n",
    "    return W\n",
    "\n"
   ]
  },
  {
   "cell_type": "code",
   "execution_count": 56,
   "metadata": {},
   "outputs": [
    {
     "output_type": "stream",
     "name": "stdout",
     "text": "(100, 785)\n"
    }
   ],
   "source": [
    "\n",
    "# Load data\n",
    "trainingImages = np.load(\"small_mnist_train_images.npy\")\n",
    "trainingLabels = np.load(\"small_mnist_train_labels.npy\")\n",
    "testingImages = np.load(\"small_mnist_test_images.npy\")\n",
    "testingLabels = np.load(\"small_mnist_test_labels.npy\")\n",
    "\n",
    "\n",
    "# Append a constant 1 term to each example to correspond to the bias terms\n",
    "# ...\n",
    "trainingImages = np.insert(trainingImages, 784, 1, axis=1)\n",
    "testingImages = np.insert(testingImages, 784, 1, axis=1)\n",
    "print(trainingImages[100: 200].shape)\n",
    "\n",
    "\n",
    ""
   ]
  },
  {
   "cell_type": "code",
   "execution_count": 57,
   "metadata": {},
   "outputs": [
    {
     "output_type": "error",
     "ename": "TypeError",
     "evalue": "fCE() missing 1 required positional argument: 'y'",
     "traceback": [
      "\u001b[1;31m---------------------------------------------------------------------------\u001b[0m",
      "\u001b[1;31mTypeError\u001b[0m                                 Traceback (most recent call last)",
      "\u001b[1;32m<ipython-input-57-0b786884957e>\u001b[0m in \u001b[0;36m<module>\u001b[1;34m\u001b[0m\n\u001b[1;32m----> 1\u001b[1;33m \u001b[0mW\u001b[0m \u001b[1;33m=\u001b[0m \u001b[0msoftmaxRegression\u001b[0m\u001b[1;33m(\u001b[0m\u001b[0mtrainingImages\u001b[0m\u001b[1;33m,\u001b[0m \u001b[0mtrainingLabels\u001b[0m\u001b[1;33m,\u001b[0m \u001b[0mtestingImages\u001b[0m\u001b[1;33m,\u001b[0m \u001b[0mtestingLabels\u001b[0m\u001b[1;33m,\u001b[0m \u001b[0mepsilon\u001b[0m\u001b[1;33m=\u001b[0m\u001b[1;36m0.1\u001b[0m\u001b[1;33m,\u001b[0m \u001b[0mbatchSize\u001b[0m\u001b[1;33m=\u001b[0m\u001b[1;36m100\u001b[0m\u001b[1;33m)\u001b[0m\u001b[1;33m\u001b[0m\u001b[1;33m\u001b[0m\u001b[0m\n\u001b[0m\u001b[0;32m      2\u001b[0m \u001b[1;33m\u001b[0m\u001b[0m\n\u001b[0;32m      3\u001b[0m \u001b[1;31m# Visualize the vectors\u001b[0m\u001b[1;33m\u001b[0m\u001b[1;33m\u001b[0m\u001b[1;33m\u001b[0m\u001b[0m\n\u001b[0;32m      4\u001b[0m \u001b[1;31m# ...\u001b[0m\u001b[1;33m\u001b[0m\u001b[1;33m\u001b[0m\u001b[1;33m\u001b[0m\u001b[0m\n",
      "\u001b[1;32m<ipython-input-55-c9f27a4dbc0d>\u001b[0m in \u001b[0;36msoftmaxRegression\u001b[1;34m(trainingImages, trainingLabels, testingImages, testingLabels, epsilon, batchSize)\u001b[0m\n\u001b[0;32m     31\u001b[0m         \u001b[0mmini_y\u001b[0m \u001b[1;33m=\u001b[0m \u001b[0mtrainingLabels\u001b[0m\u001b[1;33m[\u001b[0m\u001b[0mn_tilde\u001b[0m\u001b[1;33m*\u001b[0m\u001b[0mbatchSize\u001b[0m\u001b[1;33m:\u001b[0m \u001b[1;33m(\u001b[0m\u001b[0mn_tilde\u001b[0m\u001b[1;33m+\u001b[0m\u001b[1;36m1\u001b[0m\u001b[1;33m)\u001b[0m\u001b[1;33m*\u001b[0m\u001b[0mbatchSize\u001b[0m\u001b[1;33m]\u001b[0m\u001b[1;33m\u001b[0m\u001b[1;33m\u001b[0m\u001b[0m\n\u001b[0;32m     32\u001b[0m         \u001b[0mW\u001b[0m \u001b[1;33m=\u001b[0m \u001b[0mW\u001b[0m \u001b[1;33m-\u001b[0m \u001b[0mepsilon\u001b[0m\u001b[1;33m*\u001b[0m\u001b[0mSGD\u001b[0m\u001b[1;33m(\u001b[0m\u001b[0mW\u001b[0m\u001b[1;33m,\u001b[0m \u001b[0mmini_x\u001b[0m\u001b[1;33m,\u001b[0m \u001b[0mmini_y\u001b[0m\u001b[1;33m)\u001b[0m\u001b[1;33m\u001b[0m\u001b[1;33m\u001b[0m\u001b[0m\n\u001b[1;32m---> 33\u001b[1;33m     \u001b[0mprint\u001b[0m\u001b[1;33m(\u001b[0m\u001b[0mfCE\u001b[0m\u001b[1;33m(\u001b[0m\u001b[0mpredictor\u001b[0m\u001b[1;33m(\u001b[0m\u001b[0mW\u001b[0m\u001b[1;33m,\u001b[0m \u001b[0mtestingImages\u001b[0m\u001b[1;33m)\u001b[0m\u001b[1;33m)\u001b[0m\u001b[1;33m,\u001b[0m \u001b[0mtestingLabels\u001b[0m\u001b[1;33m)\u001b[0m\u001b[1;33m\u001b[0m\u001b[1;33m\u001b[0m\u001b[0m\n\u001b[0m\u001b[0;32m     34\u001b[0m     \u001b[1;32mreturn\u001b[0m \u001b[0mW\u001b[0m\u001b[1;33m\u001b[0m\u001b[1;33m\u001b[0m\u001b[0m\n\u001b[0;32m     35\u001b[0m \u001b[1;33m\u001b[0m\u001b[0m\n",
      "\u001b[1;31mTypeError\u001b[0m: fCE() missing 1 required positional argument: 'y'"
     ]
    }
   ],
   "source": [
    "W = softmaxRegression(trainingImages, trainingLabels, testingImages, testingLabels, epsilon=0.1, batchSize=100)\n",
    "    \n",
    "# Visualize the vectors\n",
    "# ...\n",
    ""
   ]
  },
  {
   "cell_type": "code",
   "execution_count": 45,
   "metadata": {},
   "outputs": [
    {
     "output_type": "execute_result",
     "data": {
      "text/plain": "array([[-0.0033032 , -0.00129682,  0.00308001, ...,  0.0011795 ,\n         0.00277746, -0.00353546],\n       [ 0.01633821, -0.00052045,  0.00291887, ...,  0.00179568,\n         0.00814619,  0.00665702],\n       [-0.0117888 ,  0.01481778, -0.0007166 , ...,  0.00612499,\n         0.00011741, -0.00410779],\n       ...,\n       [ 0.01549685,  0.01346133, -0.01054048, ...,  0.01105758,\n         0.00886201, -0.00829809],\n       [-0.00508249, -0.00537009,  0.01176527, ...,  0.00340047,\n         0.00277077,  0.001106  ],\n       [-0.04315699,  0.08371307, -0.03167513, ...,  0.03000081,\n        -0.06556783, -0.02444724]])"
     },
     "metadata": {},
     "execution_count": 45
    }
   ],
   "source": [
    "W"
   ]
  },
  {
   "cell_type": "code",
   "execution_count": null,
   "metadata": {},
   "outputs": [],
   "source": []
  }
 ]
}