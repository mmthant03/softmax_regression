{
 "nbformat": 4,
 "nbformat_minor": 2,
 "metadata": {
  "language_info": {
   "name": "python",
   "codemirror_mode": {
    "name": "ipython",
    "version": 3
   },
   "version": "3.7.3-final"
  },
  "orig_nbformat": 2,
  "file_extension": ".py",
  "mimetype": "text/x-python",
  "name": "python",
  "npconvert_exporter": "python",
  "pygments_lexer": "ipython3",
  "version": 3,
  "kernelspec": {
   "name": "python3",
   "display_name": "Python 3"
  }
 },
 "cells": [
  {
   "cell_type": "code",
   "execution_count": 33,
   "metadata": {},
   "outputs": [],
   "source": [
    "import numpy as np\n",
    "import matplotlib.pyplot as plt\n",
    "\n",
    "# Cross Entropy Loss\n",
    "def fCE(yhat, y):\n",
    "    return -np.mean(np.log(yhat[y==1]))\n",
    "# Percent Correct\n",
    "def fPC(yhat, y):\n",
    "    return np.mean(y.argmax(axis=1) == yhat.argmax(axis=1))\n",
    "\n",
    "def SGD(w, X, y):\n",
    "    z = np.exp(X.T.dot(w))\n",
    "    z_sum = np.sum(z, axis=1).reshape(-1, 1)\n",
    "    yhat = z/z_sum\n",
    "    n = y.shape[0]\n",
    "    w = X.dot(yhat-y)/n\n",
    "    return w\n",
    "\n",
    "# Given training and testing data, learning rate epsilon, and a specified batch size,\n",
    "# conduct stochastic gradient descent (SGD) to optimize the weight matrix W (785x10).\n",
    "# Then return W.\n",
    "def softmaxRegression (trainingImages, trainingLabels, testingImages, testingLabels, epsilon = None, batchSize = None):\n",
    "    n = trainingLabels.shape[0]\n",
    "    W = 0.01 * np.random.randn(785,10)\n",
    "    for n_tilde in range(n // batchSize):\n",
    "        mini_x = trainingImages[n_tilde*batchSize: (n_tilde+1)*batchSize]\n",
    "        mini_y = trainingLabels[n_tilde*batchSize: (n_tilde+1)*batchSize] \n",
    "        W = W - epsilon*SGD(W, mini_x, mini_y)\n",
    "    return W\n",
    "\n"
   ]
  },
  {
   "cell_type": "code",
   "execution_count": 34,
   "metadata": {},
   "outputs": [
    {
     "output_type": "stream",
     "name": "stdout",
     "text": "(100, 785)\n"
    }
   ],
   "source": [
    "\n",
    "# Load data\n",
    "trainingImages = np.load(\"small_mnist_train_images.npy\")\n",
    "trainingLabels = np.load(\"small_mnist_train_labels.npy\")\n",
    "testingImages = np.load(\"small_mnist_test_images.npy\")\n",
    "testingLabels = np.load(\"small_mnist_test_labels.npy\")\n",
    "\n",
    "\n",
    "# Append a constant 1 term to each example to correspond to the bias terms\n",
    "# ...\n",
    "trainingImages = np.insert(trainingImages, 784, 1, axis=1)\n",
    "print(trainingImages[100: 200].shape)\n",
    "\n",
    "\n",
    ""
   ]
  },
  {
   "cell_type": "code",
   "execution_count": 35,
   "metadata": {},
   "outputs": [
    {
     "output_type": "error",
     "ename": "ValueError",
     "evalue": "operands could not be broadcast together with shapes (785,785) (100,10) ",
     "traceback": [
      "\u001b[1;31m---------------------------------------------------------------------------\u001b[0m",
      "\u001b[1;31mValueError\u001b[0m                                Traceback (most recent call last)",
      "\u001b[1;32m<ipython-input-35-0b786884957e>\u001b[0m in \u001b[0;36m<module>\u001b[1;34m\u001b[0m\n\u001b[1;32m----> 1\u001b[1;33m \u001b[0mW\u001b[0m \u001b[1;33m=\u001b[0m \u001b[0msoftmaxRegression\u001b[0m\u001b[1;33m(\u001b[0m\u001b[0mtrainingImages\u001b[0m\u001b[1;33m,\u001b[0m \u001b[0mtrainingLabels\u001b[0m\u001b[1;33m,\u001b[0m \u001b[0mtestingImages\u001b[0m\u001b[1;33m,\u001b[0m \u001b[0mtestingLabels\u001b[0m\u001b[1;33m,\u001b[0m \u001b[0mepsilon\u001b[0m\u001b[1;33m=\u001b[0m\u001b[1;36m0.1\u001b[0m\u001b[1;33m,\u001b[0m \u001b[0mbatchSize\u001b[0m\u001b[1;33m=\u001b[0m\u001b[1;36m100\u001b[0m\u001b[1;33m)\u001b[0m\u001b[1;33m\u001b[0m\u001b[1;33m\u001b[0m\u001b[0m\n\u001b[0m\u001b[0;32m      2\u001b[0m \u001b[1;33m\u001b[0m\u001b[0m\n\u001b[0;32m      3\u001b[0m \u001b[1;31m# Visualize the vectors\u001b[0m\u001b[1;33m\u001b[0m\u001b[1;33m\u001b[0m\u001b[1;33m\u001b[0m\u001b[0m\n\u001b[0;32m      4\u001b[0m \u001b[1;31m# ...\u001b[0m\u001b[1;33m\u001b[0m\u001b[1;33m\u001b[0m\u001b[1;33m\u001b[0m\u001b[0m\n",
      "\u001b[1;32m<ipython-input-33-b5f3230ed575>\u001b[0m in \u001b[0;36msoftmaxRegression\u001b[1;34m(trainingImages, trainingLabels, testingImages, testingLabels, epsilon, batchSize)\u001b[0m\n\u001b[0;32m     26\u001b[0m         \u001b[0mmini_x\u001b[0m \u001b[1;33m=\u001b[0m \u001b[0mtrainingImages\u001b[0m\u001b[1;33m[\u001b[0m\u001b[0mn_tilde\u001b[0m\u001b[1;33m*\u001b[0m\u001b[0mbatchSize\u001b[0m\u001b[1;33m:\u001b[0m \u001b[1;33m(\u001b[0m\u001b[0mn_tilde\u001b[0m\u001b[1;33m+\u001b[0m\u001b[1;36m1\u001b[0m\u001b[1;33m)\u001b[0m\u001b[1;33m*\u001b[0m\u001b[0mbatchSize\u001b[0m\u001b[1;33m]\u001b[0m\u001b[1;33m\u001b[0m\u001b[1;33m\u001b[0m\u001b[0m\n\u001b[0;32m     27\u001b[0m         \u001b[0mmini_y\u001b[0m \u001b[1;33m=\u001b[0m \u001b[0mtrainingLabels\u001b[0m\u001b[1;33m[\u001b[0m\u001b[0mn_tilde\u001b[0m\u001b[1;33m*\u001b[0m\u001b[0mbatchSize\u001b[0m\u001b[1;33m:\u001b[0m \u001b[1;33m(\u001b[0m\u001b[0mn_tilde\u001b[0m\u001b[1;33m+\u001b[0m\u001b[1;36m1\u001b[0m\u001b[1;33m)\u001b[0m\u001b[1;33m*\u001b[0m\u001b[0mbatchSize\u001b[0m\u001b[1;33m]\u001b[0m\u001b[1;33m\u001b[0m\u001b[1;33m\u001b[0m\u001b[0m\n\u001b[1;32m---> 28\u001b[1;33m         \u001b[0mW\u001b[0m \u001b[1;33m=\u001b[0m \u001b[0mW\u001b[0m \u001b[1;33m-\u001b[0m \u001b[0mepsilon\u001b[0m\u001b[1;33m*\u001b[0m\u001b[0mSGD\u001b[0m\u001b[1;33m(\u001b[0m\u001b[0mW\u001b[0m\u001b[1;33m,\u001b[0m \u001b[0mmini_x\u001b[0m\u001b[1;33m,\u001b[0m \u001b[0mmini_y\u001b[0m\u001b[1;33m)\u001b[0m\u001b[1;33m\u001b[0m\u001b[1;33m\u001b[0m\u001b[0m\n\u001b[0m\u001b[0;32m     29\u001b[0m     \u001b[1;32mreturn\u001b[0m \u001b[0mW\u001b[0m\u001b[1;33m\u001b[0m\u001b[1;33m\u001b[0m\u001b[0m\n\u001b[0;32m     30\u001b[0m \u001b[1;33m\u001b[0m\u001b[0m\n",
      "\u001b[1;32m<ipython-input-33-b5f3230ed575>\u001b[0m in \u001b[0;36mSGD\u001b[1;34m(w, X, y)\u001b[0m\n\u001b[0;32m     14\u001b[0m     \u001b[0myhat\u001b[0m \u001b[1;33m=\u001b[0m \u001b[0mz\u001b[0m\u001b[1;33m/\u001b[0m\u001b[0mz_sum\u001b[0m\u001b[1;33m\u001b[0m\u001b[1;33m\u001b[0m\u001b[0m\n\u001b[0;32m     15\u001b[0m     \u001b[0mn\u001b[0m \u001b[1;33m=\u001b[0m \u001b[0my\u001b[0m\u001b[1;33m.\u001b[0m\u001b[0mshape\u001b[0m\u001b[1;33m[\u001b[0m\u001b[1;36m0\u001b[0m\u001b[1;33m]\u001b[0m\u001b[1;33m\u001b[0m\u001b[1;33m\u001b[0m\u001b[0m\n\u001b[1;32m---> 16\u001b[1;33m     \u001b[0mw\u001b[0m \u001b[1;33m=\u001b[0m \u001b[0mX\u001b[0m\u001b[1;33m.\u001b[0m\u001b[0mdot\u001b[0m\u001b[1;33m(\u001b[0m\u001b[0myhat\u001b[0m\u001b[1;33m-\u001b[0m\u001b[0my\u001b[0m\u001b[1;33m)\u001b[0m\u001b[1;33m/\u001b[0m\u001b[0mn\u001b[0m\u001b[1;33m\u001b[0m\u001b[1;33m\u001b[0m\u001b[0m\n\u001b[0m\u001b[0;32m     17\u001b[0m     \u001b[1;32mreturn\u001b[0m \u001b[0mw\u001b[0m\u001b[1;33m\u001b[0m\u001b[1;33m\u001b[0m\u001b[0m\n\u001b[0;32m     18\u001b[0m \u001b[1;33m\u001b[0m\u001b[0m\n",
      "\u001b[1;31mValueError\u001b[0m: operands could not be broadcast together with shapes (785,785) (100,10) "
     ]
    }
   ],
   "source": [
    "W = softmaxRegression(trainingImages, trainingLabels, testingImages, testingLabels, epsilon=0.1, batchSize=100)\n",
    "    \n",
    "# Visualize the vectors\n",
    "# ...\n",
    ""
   ]
  },
  {
   "cell_type": "code",
   "execution_count": null,
   "metadata": {},
   "outputs": [],
   "source": []
  },
  {
   "cell_type": "code",
   "execution_count": null,
   "metadata": {},
   "outputs": [],
   "source": []
  }
 ]
}