{
 "cells": [
  {
   "cell_type": "code",
   "execution_count": 25,
   "metadata": {},
   "outputs": [],
   "source": [
    "import numpy as np\n",
    "import matplotlib.pyplot as plt\n",
    "import skimage as sk\n",
    "import skimage.filters as skf\n",
    "\n",
    "# Cross Entropy Loss\n",
    "def fCE(yhat, y):\n",
    "    return -np.mean(np.log(yhat[y==1]))\n",
    "# Percent Correct\n",
    "def fPC(yhat, y):\n",
    "    return np.mean(y.argmax(axis=1) == yhat.argmax(axis=1))\n",
    "\n",
    "def predictor(w, X):\n",
    "    z = np.exp(X.dot(w))\n",
    "    z_sum = np.sum(z, axis=1).reshape(-1, 1)\n",
    "    yhat = z/z_sum\n",
    "    return yhat\n",
    "\n",
    "def SGD(w, X, y):\n",
    "    yhat = predictor(w, X)\n",
    "    n = y.shape[0]\n",
    "    w = X.T.dot(yhat-y)/n\n",
    "    return w\n",
    "\n",
    "# Given training and testing data, learning rate epsilon, and a specified batch size,\n",
    "# conduct stochastic gradient descent (SGD) to optimize the weight matrix W (785x10).\n",
    "# Then return W.\n",
    "def softmaxRegression (trainingImages, trainingLabels, testingImages, testingLabels, epsilon = None, batchSize = None):\n",
    "    n = trainingLabels.shape[0]\n",
    "    W = 0.01 * np.random.randn(785,10)\n",
    "#     epochs = 100\n",
    "#     for _ in range(epochs):\n",
    "    for n_tilde in range(n // batchSize):\n",
    "        mini_x = trainingImages[n_tilde*batchSize: (n_tilde+1)*batchSize]\n",
    "        mini_y = trainingLabels[n_tilde*batchSize: (n_tilde+1)*batchSize] \n",
    "        W = W - epsilon*SGD(W, mini_x, mini_y)\n",
    "    return W   \n",
    "\n",
    "def rotated(images, labels):\n",
    "    r = images.reshape((5000, 28, 28))\n",
    "    \n",
    "    plt.imshow(r[10])\n",
    "    plt.show()\n",
    "    \n",
    "    for i, _ in enumerate(r):\n",
    "        r[i] = sk.transform.rotate(r[i], angle=15)\n",
    "        \n",
    "    plt.imshow(r[10])\n",
    "    plt.show()\n",
    "        \n",
    "    r = r.reshape((5000, 784))\n",
    "    r = np.insert(r, 784, 1, axis=1)\n",
    "    images = np.insert(images, 784, 1, axis=1)\n",
    "    \n",
    "    return (np.append(images,r,axis=0), np.append(labels,labels,axis=0))\n",
    "     \n",
    "    \n",
    "def scaled(images, labels):\n",
    "    s = images.reshape((5000, 28, 28))\n",
    "    \n",
    "    for i, _ in enumerate(s):\n",
    "        # randomly assign scale factor?\n",
    "        s[i] = sk.transform.resize(sk.transform.rescale(s[i], scale=0.8, mode='constant'), (28,28))\n",
    "        \n",
    "    s = s.reshape((5000, 784))\n",
    "    s = np.insert(s, 784, 1, axis=1)\n",
    "    images = np.insert(images, 784, 1, axis=1)\n",
    "    \n",
    "    return (np.append(images,s,axis=0), np.append(labels,labels,axis=0))\n",
    "\n",
    "def gauss_noise(images, labels):\n",
    "    g = images.reshape((5000, 28, 28))\n",
    "    \n",
    "    plt.imshow(g[10])\n",
    "    plt.show()\n",
    "    \n",
    "    for i, _ in enumerate(g):\n",
    "        g[i] = skf.gaussian(g[i], sigma=0.2)\n",
    "        \n",
    "    plt.imshow(g[10])\n",
    "    plt.show()\n",
    "        \n",
    "    g = g.reshape((5000, 784))\n",
    "    g = np.insert(g, 784, 1, axis=1)\n",
    "    images = np.insert(images, 784, 1, axis=1)\n",
    "    \n",
    "    return (np.append(images,g,axis=0), np.append(labels,labels,axis=0))\n",
    "    "
   ]
  },
  {
   "cell_type": "code",
   "execution_count": 26,
   "metadata": {
    "scrolled": false
   },
   "outputs": [
    {
     "data": {
      "image/png": "[encoded data removed]",
      "text/plain": [
       "<Figure size 432x288 with 1 Axes>"
      ]
     },
     "metadata": {
      "needs_background": "light"
     },
     "output_type": "display_data"
    },
    {
     "data": {
      "image/png": "[encoded data removed]",
      "text/plain": [
       "<Figure size 432x288 with 1 Axes>"
      ]
     },
     "metadata": {
      "needs_background": "light"
     },
     "output_type": "display_data"
    },
    {
     "name": "stdout",
     "output_type": "stream",
     "text": [
      "(10000, 785)\n",
      "0.7766\n"
     ]
    }
   ],
   "source": [
    "\n",
    "# Load data\n",
    "trainingImages = np.load(\"small_mnist_train_images.npy\")\n",
    "trainingLabels = np.load(\"small_mnist_train_labels.npy\")\n",
    "testingImages = np.load(\"small_mnist_test_images.npy\")\n",
    "testingLabels = np.load(\"small_mnist_test_labels.npy\")\n",
    "\n",
    "trainingImages, trainingLabels = rotated(trainingImages, trainingLabels)\n",
    "print(trainingImages.shape)\n",
    "\n",
    "# Append a constant 1 term to each example to correspond to the bias terms\n",
    "# ...\n",
    "# trainingImages = np.insert(trainingImages, 784, 1, axis=1)\n",
    "testingImages = np.insert(testingImages, 784, 1, axis=1)\n",
    "\n",
    "W = softmaxRegression(trainingImages, trainingLabels, testingImages, testingLabels, epsilon=0.1, batchSize=100)\n",
    "print(fPC(predictor(W, testingImages), testingLabels))"
   ]
  },
  {
   "cell_type": "code",
   "execution_count": 57,
   "metadata": {},
   "outputs": [
    {
     "name": "stdout",
     "output_type": "stream",
     "text": [
      "0.8118\n"
     ]
    }
   ],
   "source": [
    "W = softmaxRegression(trainingImages, trainingLabels, testingImages, testingLabels, epsilon=0.1, batchSize=100)\n",
    "print(fPC(predictor(W, testingImages), testingLabels))"
   ]
  },
  {
   "cell_type": "code",
   "execution_count": 40,
   "metadata": {
    "scrolled": true
   },
   "outputs": [
    {
     "data": {
      "image/png": "[encoded data removed]",
      "text/plain": [
       "<Figure size 432x288 with 1 Axes>"
      ]
     },
     "metadata": {
      "needs_background": "light"
     },
     "output_type": "display_data"
    },
    {
     "data": {
      "image/png": "[encoded data removed]",
      "text/plain": [
       "<Figure size 432x288 with 1 Axes>"
      ]
     },
     "metadata": {
      "needs_background": "light"
     },
     "output_type": "display_data"
    },
    {
     "data": {
      "image/png": "[encoded data removed]",
      "text/plain": [
       "<Figure size 432x288 with 1 Axes>"
      ]
     },
     "metadata": {
      "needs_background": "light"
     },
     "output_type": "display_data"
    },
    {
     "data": {
      "image/png": "[encoded data removed]",
      "text/plain": [
       "<Figure size 432x288 with 1 Axes>"
      ]
     },
     "metadata": {
      "needs_background": "light"
     },
     "output_type": "display_data"
    },
    {
     "data": {
      "image/png": "[encoded data removed]",
      "text/plain": [
       "<Figure size 432x288 with 1 Axes>"
      ]
     },
     "metadata": {
      "needs_background": "light"
     },
     "output_type": "display_data"
    },
    {
     "data": {
      "image/png": "[encoded data removed]",
      "text/plain": [
       "<Figure size 432x288 with 1 Axes>"
      ]
     },
     "metadata": {
      "needs_background": "light"
     },
     "output_type": "display_data"
    },
    {
     "data": {
      "image/png": "[encoded data removed]",
      "text/plain": [
       "<Figure size 432x288 with 1 Axes>"
      ]
     },
     "metadata": {
      "needs_background": "light"
     },
     "output_type": "display_data"
    },
    {
     "data": {
      "image/png": "[encoded data removed]",
      "text/plain": [
       "<Figure size 432x288 with 1 Axes>"
      ]
     },
     "metadata": {
      "needs_background": "light"
     },
     "output_type": "display_data"
    },
    {
     "data": {
      "image/png": "[encoded data removed]",
      "text/plain": [
       "<Figure size 432x288 with 1 Axes>"
      ]
     },
     "metadata": {
      "needs_background": "light"
     },
     "output_type": "display_data"
    },
    {
     "data": {
      "image/png": "[encoded data removed]",
      "text/plain": [
       "<Figure size 432x288 with 1 Axes>"
      ]
     },
     "metadata": {
      "needs_background": "light"
     },
     "output_type": "display_data"
    }
   ],
   "source": [
    "for w in W[:784].T:\n",
    "    weight_image = w.reshape((28, 28))\n",
    "    plt.imshow(W)\n",
    "    plt.show()"
   ]
  },
  {
   "cell_type": "code",
   "execution_count": 38,
   "metadata": {
    "tags": [
     "outputPrepend"
    ]
   },
   "outputs": [],
   "source": [
    "i=1\n",
    "for w in W[:784].T:\n",
    "    print(i)\n",
    "    i = i+1"
   ]
  },
  {
   "cell_type": "code",
   "execution_count": null,
   "metadata": {},
   "outputs": [],
   "source": []
  }
 ],
 "metadata": {
  "file_extension": ".py",
  "kernelspec": {
   "display_name": "Python 3",
   "language": "python",
   "name": "python3"
  },
  "language_info": {
   "codemirror_mode": {
    "name": "ipython",
    "version": 3
   },
   "file_extension": ".py",
   "mimetype": "text/x-python",
   "name": "python",
   "nbconvert_exporter": "python",
   "pygments_lexer": "ipython3",
   "version": "3.6.8"
  },
  "mimetype": "text/x-python",
  "name": "python",
  "npconvert_exporter": "python",
  "pygments_lexer": "ipython3",
  "version": 3
 },
 "nbformat": 4,
 "nbformat_minor": 2
}
