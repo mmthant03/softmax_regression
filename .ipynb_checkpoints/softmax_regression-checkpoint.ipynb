{
 "cells": [
  {
   "cell_type": "code",
   "execution_count": 77,
   "metadata": {},
   "outputs": [],
   "source": [
    "import numpy as np\n",
    "import matplotlib.pyplot as plt\n",
    "import skimage as sk\n",
    "import skimage.filters as skf\n",
    "from skimage import transform as tf\n",
    "\n",
    "# Cross Entropy Loss\n",
    "def fCE(yhat, y):\n",
    "    return -np.mean(np.log(yhat[y==1]))\n",
    "# Percent Correct\n",
    "def fPC(yhat, y):\n",
    "    return np.mean(y.argmax(axis=1) == yhat.argmax(axis=1))\n",
    "\n",
    "def predictor(w, X):\n",
    "    z = np.exp(X.dot(w))\n",
    "    z_sum = np.sum(z, axis=1).reshape(-1, 1)\n",
    "    yhat = z/z_sum\n",
    "    return yhat\n",
    "\n",
    "def SGD(w, X, y):\n",
    "    yhat = predictor(w, X)\n",
    "    n = y.shape[0]\n",
    "    w = X.T.dot(yhat-y)/n\n",
    "    return w\n",
    "\n",
    "# Given training and testing data, learning rate epsilon, and a specified batch size,\n",
    "# conduct stochastic gradient descent (SGD) to optimize the weight matrix W (785x10).\n",
    "# Then return W.\n",
    "def softmaxRegression (trainingImages, trainingLabels, testingImages, testingLabels, epsilon = None, batchSize = None):\n",
    "    n = trainingLabels.shape[0]\n",
    "    W = 0.01 * np.random.randn(785,10)\n",
    "#     epochs = 100\n",
    "#     for _ in range(epochs):\n",
    "    for n_tilde in range(n // batchSize):\n",
    "        mini_x = trainingImages[n_tilde*batchSize: (n_tilde+1)*batchSize]\n",
    "        mini_y = trainingLabels[n_tilde*batchSize: (n_tilde+1)*batchSize] \n",
    "        W = W - epsilon*SGD(W, mini_x, mini_y)\n",
    "    return W   \n",
    "\n",
    "def rotated(images, labels):\n",
    "    r = images.reshape((5000, 28, 28))\n",
    "    \n",
    "    plt.imshow(r[10])\n",
    "    plt.show()\n",
    "    \n",
    "    for i, _ in enumerate(r):\n",
    "        r[i] = sk.transform.rotate(r[i], angle=15)\n",
    "        \n",
    "    plt.imshow(r[10])\n",
    "    plt.show()\n",
    "        \n",
    "    r = r.reshape((5000, 784))\n",
    "    r = np.insert(r, 784, 1, axis=1)\n",
    "    images = np.insert(images, 784, 1, axis=1)\n",
    "    \n",
    "    return (np.append(images,r,axis=0), np.append(labels,labels,axis=0))\n",
    "     \n",
    "    \n",
    "def scaled(images, labels):\n",
    "    s = images.reshape((5000, 28, 28))\n",
    "    \n",
    "    for i, _ in enumerate(s):\n",
    "        # randomly assign scale factor?\n",
    "        s[i] = sk.transform.resize(sk.transform.rescale(s[i], scale=0.8, mode='constant'), (28,28))\n",
    "        \n",
    "    s = s.reshape((5000, 784))\n",
    "    s = np.insert(s, 784, 1, axis=1)\n",
    "    images = np.insert(images, 784, 1, axis=1)\n",
    "    \n",
    "    return (np.append(images,s,axis=0), np.append(labels,labels,axis=0))\n",
    "\n",
    "def gauss_noise(images, labels):\n",
    "    g = images.reshape((5000, 28, 28))\n",
    "    \n",
    "    plt.imshow(g[10])\n",
    "    plt.show()\n",
    "    \n",
    "    for i, _ in enumerate(g):\n",
    "        g[i] = skf.gaussian(g[i], sigma=0.2)\n",
    "        \n",
    "    plt.imshow(g[10])\n",
    "    plt.show()\n",
    "        \n",
    "    g = g.reshape((5000, 784))\n",
    "    g = np.insert(g, 784, 1, axis=1)\n",
    "    images = np.insert(images, 784, 1, axis=1)\n",
    "    \n",
    "    return (np.append(images,g,axis=0), np.append(labels,labels,axis=0))\n",
    "    \n",
    "    \n",
    "def transl(images, labels):\n",
    "    g = images.reshape((5000, 28, 28))\n",
    "    \n",
    "    for i, _ in enumerate(g[:30]):\n",
    "        r = np.random.randint(-1, 2, size=2)\n",
    "        \n",
    "        buf = g[i, :r[0]]\n",
    "        temp = g[i, r[0]:]\n",
    "        g[i] = np.append(temp, buf, axis=0)\n",
    "        \n",
    "        buf = g[i, :, :r[1]]\n",
    "        temp = g[i, :, r[1]:]\n",
    "        g[i] = np.append(temp, buf, axis=1)\n",
    "        \n",
    "    g = g.reshape((5000, 784))\n",
    "#     g = np.insert(g, 784, 1, axis=1)\n",
    "#     images = np.insert(images, 784, 1, axis=1)\n",
    "    \n",
    "    return (np.append(images,g,axis=0), np.append(labels,labels,axis=0))\n",
    "\n",
    "def augmentation(images, labels, style):\n",
    "    \n",
    "    g = images.reshape((5000, 28, 28))\n",
    "    \n",
    "    for i, _ in enumerate(g):\n",
    "        \n",
    "        if style == 'rotate':\n",
    "            g[i] = sk.transform.rotate(g[i], angle=15)\n",
    "        elif style == 'scale':\n",
    "            g[i] = sk.transform.resize(sk.transform.rescale(g[i], scale=0.8, mode='constant'), (28,28))\n",
    "        elif style == 'gauss':\n",
    "            g[i] = skf.gaussian(g[i], sigma=0.2)\n",
    "        elif style == 'transl':\n",
    "            r = np.random.randint(-1, 2, size=2)\n",
    "            buf = g[i, :r[0]]\n",
    "            temp = g[i, r[0]:]\n",
    "            g[i] = np.append(temp, buf, axis=0)\n",
    "            buf = g[i, :, :r[1]]\n",
    "            temp = g[i, :, r[1]:]\n",
    "            g[i] = np.append(temp, buf, axis=1)\n",
    "        \n",
    "    g = g.reshape((5000, 784))\n",
    "    g = np.insert(g, 784, 1, axis=1)\n",
    "    images = np.insert(images, 784, 1, axis=1)\n",
    "    \n",
    "    return (np.append(images,g,axis=0), np.append(labels,labels,axis=0))\n",
    "            \n",
    "def get_data():\n",
    "    # Load data\n",
    "    tr_im = np.load(\"small_mnist_train_images.npy\")\n",
    "    tr_lb = np.load(\"small_mnist_train_labels.npy\")\n",
    "    te_im = np.load(\"small_mnist_test_images.npy\")\n",
    "    te_lb = np.load(\"small_mnist_test_labels.npy\")\n",
    "    \n",
    "    return (tr_im, tr_lb, te_im, te_lb)"
   ]
  },
  {
   "cell_type": "code",
   "execution_count": 78,
   "metadata": {
    "scrolled": false
   },
   "outputs": [
    {
     "ename": "KeyboardInterrupt",
     "evalue": "",
     "output_type": "error",
     "traceback": [
      "\u001b[0;31m---------------------------------------------------------------------------\u001b[0m",
      "\u001b[0;31mKeyboardInterrupt\u001b[0m                         Traceback (most recent call last)",
      "\u001b[0;32m<ipython-input-78-b16dce2b4a28>\u001b[0m in \u001b[0;36m<module>\u001b[0;34m\u001b[0m\n\u001b[1;32m      8\u001b[0m \u001b[0;34m\u001b[0m\u001b[0m\n\u001b[1;32m      9\u001b[0m \u001b[0mrotate_im\u001b[0m\u001b[0;34m,\u001b[0m \u001b[0mrotate_lb\u001b[0m \u001b[0;34m=\u001b[0m \u001b[0maugmentation\u001b[0m\u001b[0;34m(\u001b[0m\u001b[0mtr_im\u001b[0m\u001b[0;34m,\u001b[0m \u001b[0mtr_lb\u001b[0m\u001b[0;34m,\u001b[0m \u001b[0;34m'rotate'\u001b[0m\u001b[0;34m)\u001b[0m\u001b[0;34m\u001b[0m\u001b[0;34m\u001b[0m\u001b[0m\n\u001b[0;32m---> 10\u001b[0;31m \u001b[0mrscale_im\u001b[0m\u001b[0;34m,\u001b[0m \u001b[0mrscale_lb\u001b[0m \u001b[0;34m=\u001b[0m \u001b[0maugmentation\u001b[0m\u001b[0;34m(\u001b[0m\u001b[0mtr_im\u001b[0m\u001b[0;34m,\u001b[0m \u001b[0mtr_lb\u001b[0m\u001b[0;34m,\u001b[0m \u001b[0;34m'scale'\u001b[0m\u001b[0;34m)\u001b[0m\u001b[0;34m\u001b[0m\u001b[0;34m\u001b[0m\u001b[0m\n\u001b[0m\u001b[1;32m     11\u001b[0m \u001b[0mtransl_im\u001b[0m\u001b[0;34m,\u001b[0m \u001b[0mtransl_lb\u001b[0m \u001b[0;34m=\u001b[0m \u001b[0maugmentation\u001b[0m\u001b[0;34m(\u001b[0m\u001b[0mtr_im\u001b[0m\u001b[0;34m,\u001b[0m \u001b[0mtr_lb\u001b[0m\u001b[0;34m,\u001b[0m \u001b[0;34m'transl'\u001b[0m\u001b[0;34m)\u001b[0m\u001b[0;34m\u001b[0m\u001b[0;34m\u001b[0m\u001b[0m\n\u001b[1;32m     12\u001b[0m \u001b[0mrgause_im\u001b[0m\u001b[0;34m,\u001b[0m \u001b[0mrgause_lb\u001b[0m \u001b[0;34m=\u001b[0m \u001b[0maugmentation\u001b[0m\u001b[0;34m(\u001b[0m\u001b[0mtr_im\u001b[0m\u001b[0;34m,\u001b[0m \u001b[0mtr_lb\u001b[0m\u001b[0;34m,\u001b[0m \u001b[0;34m'gause'\u001b[0m\u001b[0;34m)\u001b[0m\u001b[0;34m\u001b[0m\u001b[0;34m\u001b[0m\u001b[0m\n",
      "\u001b[0;32m<ipython-input-77-8088b28d0e77>\u001b[0m in \u001b[0;36maugmentation\u001b[0;34m(images, labels, style)\u001b[0m\n\u001b[1;32m    118\u001b[0m             \u001b[0mg\u001b[0m\u001b[0;34m[\u001b[0m\u001b[0mi\u001b[0m\u001b[0;34m]\u001b[0m \u001b[0;34m=\u001b[0m \u001b[0msk\u001b[0m\u001b[0;34m.\u001b[0m\u001b[0mtransform\u001b[0m\u001b[0;34m.\u001b[0m\u001b[0mrotate\u001b[0m\u001b[0;34m(\u001b[0m\u001b[0mg\u001b[0m\u001b[0;34m[\u001b[0m\u001b[0mi\u001b[0m\u001b[0;34m]\u001b[0m\u001b[0;34m,\u001b[0m \u001b[0mangle\u001b[0m\u001b[0;34m=\u001b[0m\u001b[0;36m15\u001b[0m\u001b[0;34m)\u001b[0m\u001b[0;34m\u001b[0m\u001b[0;34m\u001b[0m\u001b[0m\n\u001b[1;32m    119\u001b[0m         \u001b[0;32melif\u001b[0m \u001b[0mstyle\u001b[0m \u001b[0;34m==\u001b[0m \u001b[0;34m'scale'\u001b[0m\u001b[0;34m:\u001b[0m\u001b[0;34m\u001b[0m\u001b[0;34m\u001b[0m\u001b[0m\n\u001b[0;32m--> 120\u001b[0;31m             \u001b[0mg\u001b[0m\u001b[0;34m[\u001b[0m\u001b[0mi\u001b[0m\u001b[0;34m]\u001b[0m \u001b[0;34m=\u001b[0m \u001b[0msk\u001b[0m\u001b[0;34m.\u001b[0m\u001b[0mtransform\u001b[0m\u001b[0;34m.\u001b[0m\u001b[0mresize\u001b[0m\u001b[0;34m(\u001b[0m\u001b[0msk\u001b[0m\u001b[0;34m.\u001b[0m\u001b[0mtransform\u001b[0m\u001b[0;34m.\u001b[0m\u001b[0mrescale\u001b[0m\u001b[0;34m(\u001b[0m\u001b[0mg\u001b[0m\u001b[0;34m[\u001b[0m\u001b[0mi\u001b[0m\u001b[0;34m]\u001b[0m\u001b[0;34m,\u001b[0m \u001b[0mscale\u001b[0m\u001b[0;34m=\u001b[0m\u001b[0;36m0.8\u001b[0m\u001b[0;34m,\u001b[0m \u001b[0mmode\u001b[0m\u001b[0;34m=\u001b[0m\u001b[0;34m'constant'\u001b[0m\u001b[0;34m)\u001b[0m\u001b[0;34m,\u001b[0m \u001b[0;34m(\u001b[0m\u001b[0;36m28\u001b[0m\u001b[0;34m,\u001b[0m\u001b[0;36m28\u001b[0m\u001b[0;34m)\u001b[0m\u001b[0;34m)\u001b[0m\u001b[0;34m\u001b[0m\u001b[0;34m\u001b[0m\u001b[0m\n\u001b[0m\u001b[1;32m    121\u001b[0m         \u001b[0;32melif\u001b[0m \u001b[0mstyle\u001b[0m \u001b[0;34m==\u001b[0m \u001b[0;34m'gauss'\u001b[0m\u001b[0;34m:\u001b[0m\u001b[0;34m\u001b[0m\u001b[0;34m\u001b[0m\u001b[0m\n\u001b[1;32m    122\u001b[0m             \u001b[0mg\u001b[0m\u001b[0;34m[\u001b[0m\u001b[0mi\u001b[0m\u001b[0;34m]\u001b[0m \u001b[0;34m=\u001b[0m \u001b[0mskf\u001b[0m\u001b[0;34m.\u001b[0m\u001b[0mgaussian\u001b[0m\u001b[0;34m(\u001b[0m\u001b[0mg\u001b[0m\u001b[0;34m[\u001b[0m\u001b[0mi\u001b[0m\u001b[0;34m]\u001b[0m\u001b[0;34m,\u001b[0m \u001b[0msigma\u001b[0m\u001b[0;34m=\u001b[0m\u001b[0;36m0.2\u001b[0m\u001b[0;34m)\u001b[0m\u001b[0;34m\u001b[0m\u001b[0;34m\u001b[0m\u001b[0m\n",
      "\u001b[0;32m~/pyenv/lib/python3.6/site-packages/skimage/transform/_warps.py\u001b[0m in \u001b[0;36mresize\u001b[0;34m(image, output_shape, order, mode, cval, clip, preserve_range, anti_aliasing, anti_aliasing_sigma)\u001b[0m\n\u001b[1;32m    155\u001b[0m \u001b[0;34m\u001b[0m\u001b[0m\n\u001b[1;32m    156\u001b[0m             \u001b[0mtform\u001b[0m \u001b[0;34m=\u001b[0m \u001b[0mAffineTransform\u001b[0m\u001b[0;34m(\u001b[0m\u001b[0;34m)\u001b[0m\u001b[0;34m\u001b[0m\u001b[0;34m\u001b[0m\u001b[0m\n\u001b[0;32m--> 157\u001b[0;31m             \u001b[0mtform\u001b[0m\u001b[0;34m.\u001b[0m\u001b[0mestimate\u001b[0m\u001b[0;34m(\u001b[0m\u001b[0msrc_corners\u001b[0m\u001b[0;34m,\u001b[0m \u001b[0mdst_corners\u001b[0m\u001b[0;34m)\u001b[0m\u001b[0;34m\u001b[0m\u001b[0;34m\u001b[0m\u001b[0m\n\u001b[0m\u001b[1;32m    158\u001b[0m \u001b[0;34m\u001b[0m\u001b[0m\n\u001b[1;32m    159\u001b[0m         \u001b[0;31m# Make sure the transform is exactly metric, to ensure fast warping.\u001b[0m\u001b[0;34m\u001b[0m\u001b[0;34m\u001b[0m\u001b[0;34m\u001b[0m\u001b[0m\n",
      "\u001b[0;32m~/pyenv/lib/python3.6/site-packages/skimage/transform/_geometric.py\u001b[0m in \u001b[0;36mestimate\u001b[0;34m(self, src, dst)\u001b[0m\n\u001b[1;32m    697\u001b[0m \u001b[0;34m\u001b[0m\u001b[0m\n\u001b[1;32m    698\u001b[0m         \u001b[0;31m# De-center and de-normalize\u001b[0m\u001b[0;34m\u001b[0m\u001b[0;34m\u001b[0m\u001b[0;34m\u001b[0m\u001b[0m\n\u001b[0;32m--> 699\u001b[0;31m         \u001b[0mH\u001b[0m \u001b[0;34m=\u001b[0m \u001b[0mnp\u001b[0m\u001b[0;34m.\u001b[0m\u001b[0mlinalg\u001b[0m\u001b[0;34m.\u001b[0m\u001b[0minv\u001b[0m\u001b[0;34m(\u001b[0m\u001b[0mdst_matrix\u001b[0m\u001b[0;34m)\u001b[0m \u001b[0;34m@\u001b[0m \u001b[0mH\u001b[0m \u001b[0;34m@\u001b[0m \u001b[0msrc_matrix\u001b[0m\u001b[0;34m\u001b[0m\u001b[0;34m\u001b[0m\u001b[0m\n\u001b[0m\u001b[1;32m    700\u001b[0m \u001b[0;34m\u001b[0m\u001b[0m\n\u001b[1;32m    701\u001b[0m         \u001b[0mself\u001b[0m\u001b[0;34m.\u001b[0m\u001b[0mparams\u001b[0m \u001b[0;34m=\u001b[0m \u001b[0mH\u001b[0m\u001b[0;34m\u001b[0m\u001b[0;34m\u001b[0m\u001b[0m\n",
      "\u001b[0;32m<__array_function__ internals>\u001b[0m in \u001b[0;36minv\u001b[0;34m(*args, **kwargs)\u001b[0m\n",
      "\u001b[0;32m~/pyenv/lib/python3.6/site-packages/numpy/linalg/linalg.py\u001b[0m in \u001b[0;36minv\u001b[0;34m(a)\u001b[0m\n\u001b[1;32m    549\u001b[0m     \u001b[0msignature\u001b[0m \u001b[0;34m=\u001b[0m \u001b[0;34m'D->D'\u001b[0m \u001b[0;32mif\u001b[0m \u001b[0misComplexType\u001b[0m\u001b[0;34m(\u001b[0m\u001b[0mt\u001b[0m\u001b[0;34m)\u001b[0m \u001b[0;32melse\u001b[0m \u001b[0;34m'd->d'\u001b[0m\u001b[0;34m\u001b[0m\u001b[0;34m\u001b[0m\u001b[0m\n\u001b[1;32m    550\u001b[0m     \u001b[0mextobj\u001b[0m \u001b[0;34m=\u001b[0m \u001b[0mget_linalg_error_extobj\u001b[0m\u001b[0;34m(\u001b[0m\u001b[0m_raise_linalgerror_singular\u001b[0m\u001b[0;34m)\u001b[0m\u001b[0;34m\u001b[0m\u001b[0;34m\u001b[0m\u001b[0m\n\u001b[0;32m--> 551\u001b[0;31m     \u001b[0mainv\u001b[0m \u001b[0;34m=\u001b[0m \u001b[0m_umath_linalg\u001b[0m\u001b[0;34m.\u001b[0m\u001b[0minv\u001b[0m\u001b[0;34m(\u001b[0m\u001b[0ma\u001b[0m\u001b[0;34m,\u001b[0m \u001b[0msignature\u001b[0m\u001b[0;34m=\u001b[0m\u001b[0msignature\u001b[0m\u001b[0;34m,\u001b[0m \u001b[0mextobj\u001b[0m\u001b[0;34m=\u001b[0m\u001b[0mextobj\u001b[0m\u001b[0;34m)\u001b[0m\u001b[0;34m\u001b[0m\u001b[0;34m\u001b[0m\u001b[0m\n\u001b[0m\u001b[1;32m    552\u001b[0m     \u001b[0;32mreturn\u001b[0m \u001b[0mwrap\u001b[0m\u001b[0;34m(\u001b[0m\u001b[0mainv\u001b[0m\u001b[0;34m.\u001b[0m\u001b[0mastype\u001b[0m\u001b[0;34m(\u001b[0m\u001b[0mresult_t\u001b[0m\u001b[0;34m,\u001b[0m \u001b[0mcopy\u001b[0m\u001b[0;34m=\u001b[0m\u001b[0;32mFalse\u001b[0m\u001b[0;34m)\u001b[0m\u001b[0;34m)\u001b[0m\u001b[0;34m\u001b[0m\u001b[0;34m\u001b[0m\u001b[0m\n\u001b[1;32m    553\u001b[0m \u001b[0;34m\u001b[0m\u001b[0m\n",
      "\u001b[0;31mKeyboardInterrupt\u001b[0m: "
     ]
    }
   ],
   "source": [
    "\n",
    "# Load data\n",
    "trainingImages = np.load(\"small_mnist_train_images.npy\")\n",
    "trainingLabels = np.load(\"small_mnist_train_labels.npy\")\n",
    "testingImages = np.load(\"small_mnist_test_images.npy\")\n",
    "testingLabels = np.load(\"small_mnist_test_labels.npy\")\n",
    "\n",
    "tr_im, tr_lb, te_im, te_lb = get_data()\n",
    "\n",
    "rotate_im, rotate_lb = augmentation(tr_im, tr_lb, 'rotate')\n",
    "scale_im, scale_lb = augmentation(tr_im, tr_lb, 'scale')\n",
    "transl_im, transl_lb = augmentation(tr_im, tr_lb, 'transl')\n",
    "gauss_im, gauss_lb = augmentation(tr_im, tr_lb, 'gauss')\n",
    "\n",
    "# Append a constant 1 term to each example to correspond to the bias terms\n",
    "tr_im = np.insert(tr_im, 784, 1, axis=1)\n",
    "te_im = np.insert(te_im, 784, 1, axis=1)\n",
    "\n",
    "W = softmaxRegression(tr_im, tr_lb, te_im, te_lb, epsilon=0.1, batchSize=100)\n",
    "print(fPC(predictor(W, te_im), te_lb))\n",
    "\n",
    "W = softmaxRegression(transl_im, transl_lb, te_im, te_lb, epsilon=0.1, batchSize=100)\n",
    "print(fPC(predictor(W, te_im), te_lb))\n",
    "\n",
    "W = softmaxRegression(rotate_im, rotate_lb, te_im, te_lb, epsilon=0.1, batchSize=100)\n",
    "print(fPC(predictor(W, te_im), te_lb))\n",
    "\n",
    "W = softmaxRegression(scale_im, scale_lb, te_im, te_lb, epsilon=0.1, batchSize=100)\n",
    "print(fPC(predictor(W, te_im), te_lb))\n",
    "\n",
    "W = softmaxRegression(gauss_im, gauss_lb, te_im, te_lb, epsilon=0.1, batchSize=100)\n",
    "print(fPC(predictor(W, te_im), te_lb))\n",
    "\n"
   ]
  },
  {
   "cell_type": "code",
   "execution_count": 40,
   "metadata": {
    "scrolled": true
   },
   "outputs": [
    {
     "data": {
      "image/png": "[encoded data removed]",
      "text/plain": [
       "<Figure size 432x288 with 1 Axes>"
      ]
     },
     "metadata": {
      "needs_background": "light"
     },
     "output_type": "display_data"
    },
    {
     "data": {
      "image/png": "[encoded data removed]",
      "text/plain": [
       "<Figure size 432x288 with 1 Axes>"
      ]
     },
     "metadata": {
      "needs_background": "light"
     },
     "output_type": "display_data"
    },
    {
     "data": {
      "image/png": "[encoded data removed]",
      "text/plain": [
       "<Figure size 432x288 with 1 Axes>"
      ]
     },
     "metadata": {
      "needs_background": "light"
     },
     "output_type": "display_data"
    },
    {
     "data": {
      "image/png": "[encoded data removed]",
      "text/plain": [
       "<Figure size 432x288 with 1 Axes>"
      ]
     },
     "metadata": {
      "needs_background": "light"
     },
     "output_type": "display_data"
    },
    {
     "data": {
      "image/png": "[encoded data removed]",
      "text/plain": [
       "<Figure size 432x288 with 1 Axes>"
      ]
     },
     "metadata": {
      "needs_background": "light"
     },
     "output_type": "display_data"
    },
    {
     "data": {
      "image/png": "[encoded data removed]",
      "text/plain": [
       "<Figure size 432x288 with 1 Axes>"
      ]
     },
     "metadata": {
      "needs_background": "light"
     },
     "output_type": "display_data"
    },
    {
     "data": {
      "image/png": "[encoded data removed]",
      "text/plain": [
       "<Figure size 432x288 with 1 Axes>"
      ]
     },
     "metadata": {
      "needs_background": "light"
     },
     "output_type": "display_data"
    },
    {
     "data": {
      "image/png": "[encoded data removed]",
      "text/plain": [
       "<Figure size 432x288 with 1 Axes>"
      ]
     },
     "metadata": {
      "needs_background": "light"
     },
     "output_type": "display_data"
    },
    {
     "data": {
      "image/png": "[encoded data removed]",
      "text/plain": [
       "<Figure size 432x288 with 1 Axes>"
      ]
     },
     "metadata": {
      "needs_background": "light"
     },
     "output_type": "display_data"
    },
    {
     "data": {
      "image/png": "[encoded data removed]",
      "text/plain": [
       "<Figure size 432x288 with 1 Axes>"
      ]
     },
     "metadata": {
      "needs_background": "light"
     },
     "output_type": "display_data"
    }
   ],
   "source": [
    "for w in W[:784].T:\n",
    "    weight_image = w.reshape((28, 28))\n",
    "    plt.imshow(W)\n",
    "    plt.show()"
   ]
  },
  {
   "cell_type": "code",
   "execution_count": 38,
   "metadata": {
    "tags": [
     "outputPrepend"
    ]
   },
   "outputs": [],
   "source": [
    "i=1\n",
    "for w in W[:784].T:\n",
    "    print(i)\n",
    "    i = i+1"
   ]
  },
  {
   "cell_type": "code",
   "execution_count": null,
   "metadata": {},
   "outputs": [],
   "source": []
  }
 ],
 "metadata": {
  "file_extension": ".py",
  "kernelspec": {
   "display_name": "Python 3",
   "language": "python",
   "name": "python3"
  },
  "language_info": {
   "codemirror_mode": {
    "name": "ipython",
    "version": 3
   },
   "file_extension": ".py",
   "mimetype": "text/x-python",
   "name": "python",
   "nbconvert_exporter": "python",
   "pygments_lexer": "ipython3",
   "version": "3.6.8"
  },
  "mimetype": "text/x-python",
  "name": "python",
  "npconvert_exporter": "python",
  "pygments_lexer": "ipython3",
  "version": 3
 },
 "nbformat": 4,
 "nbformat_minor": 2
}
